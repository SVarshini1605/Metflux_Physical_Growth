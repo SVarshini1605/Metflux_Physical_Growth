{
 "cells": [
  {
   "cell_type": "markdown",
   "id": "f6efc336",
   "metadata": {},
   "source": [
    "## Physical Growth Classification"
   ]
  },
  {
   "cell_type": "code",
   "execution_count": 31,
   "id": "097f0285",
   "metadata": {},
   "outputs": [],
   "source": [
    "# Import Statements \n",
    "\n",
    "import csv\n",
    "import math\n",
    "import random\n",
    "import sklearn\n",
    "import numpy as np\n",
    "import pandas as pd\n",
    "import matplotlib.pyplot as plt"
   ]
  },
  {
   "cell_type": "code",
   "execution_count": 38,
   "id": "79dc19f3",
   "metadata": {},
   "outputs": [
    {
     "name": "stdout",
     "output_type": "stream",
     "text": [
      "Enter 1 if you are a female and 0 if you are male\n",
      "0\n",
      "Enter the height percentile\n",
      "111\n",
      "Enter the weight percentile\n",
      "18\n",
      "Enter the age\n",
      "5\n"
     ]
    }
   ],
   "source": [
    "# Input Values \n",
    "\n",
    "print(\"Enter 1 if you are a female and 0 if you are male\")\n",
    "gender = int(input())\n",
    "print(\"Enter the height percentile\")\n",
    "height = int(input())\n",
    "print(\"Enter the weight percentile\")\n",
    "weight = int(input())\n",
    "print(\"Enter the age\")\n",
    "CA = float(input())"
   ]
  },
  {
   "cell_type": "code",
   "execution_count": 39,
   "id": "e2d6e2c5",
   "metadata": {},
   "outputs": [],
   "source": [
    "def closest_value(input_list, percentile):\n",
    "    \n",
    "    arr = np.asarray(input_list)\n",
    "    i = (np.abs(arr - percentile)).argmin()\n",
    "    \n",
    "    return i"
   ]
  },
  {
   "cell_type": "code",
   "execution_count": 40,
   "id": "3df97933",
   "metadata": {
    "scrolled": false
   },
   "outputs": [
    {
     "name": "stdout",
     "output_type": "stream",
     "text": [
      "5.5 5.0 5.0\n"
     ]
    }
   ],
   "source": [
    "# Calculation of weight age, height age and chronological age \n",
    "\n",
    "if gender == 1:\n",
    "    height_data = pd.read_csv(\"Metflux_PG/WHO-IAP-Height-Girls-0to18.csv\")\n",
    "    height_50 = height_data[\"50th\"].tolist()\n",
    "    i = closest_value(height_50, height)\n",
    "    HA = height_data.iloc[i][0]\n",
    "    \n",
    "    weight_data = pd.read_csv(\"Metflux_PG/WHO-IAP-Weight-Girls-0to18.csv\")\n",
    "    weight_50 = weight_data[\"50th\"].tolist()\n",
    "    i = closest_value(weight_50, weight)\n",
    "    WA = weight_data.iloc[i][0]\n",
    " \n",
    "    \n",
    "else:\n",
    "    height_data = pd.read_csv(\"Metflux_PG/WHO-IAP-Height-Boys-0to18.csv\")\n",
    "    height_50 = height_data[\"50th\"].tolist()\n",
    "    i = closest_value(height_50, height)\n",
    "    HA = height_data.iloc[i][0]\n",
    "    \n",
    "    weight_data = pd.read_csv(\"Metflux_PG/WHO-IAP-Weight-Boys-0to18.csv\")\n",
    "    weight_50 = weight_data[\"50th\"].tolist()\n",
    "    i = closest_value(weight_50, weight)\n",
    "    WA = weight_data.iloc[i][0]\n",
    "    \n",
    "print(HA, WA, CA)"
   ]
  },
  {
   "cell_type": "code",
   "execution_count": 44,
   "id": "2a2bb675",
   "metadata": {},
   "outputs": [
    {
     "name": "stdout",
     "output_type": "stream",
     "text": [
      "1\n"
     ]
    }
   ],
   "source": [
    "if (abs(CA - HA) <= 1 or abs(CA - WA) <= 1 or abs(HA- WA) <=1):\n",
    "    print(1)\n",
    "\n",
    "elif (CA > HA and CA > WA and HA > WA):\n",
    "    print(\"The child has nutritional deprivation or systemic disease\")\n",
    "    \n",
    "elif (CA > HA and CA > WA and HA < WA):\n",
    "    print(\"The child has endocrine disease\")\n",
    "    \n",
    "elif (HA > CA and HA > WA and CA < WA):\n",
    "    print(\"The child has precocious puberty\")\n",
    "    \n",
    "elif (WA > CA and CA > HA and HA < WA):\n",
    "    print(\"The child has endocrine obesity\")\n",
    "\n",
    "elif (CA < HA and CA < WA and HA < WA):\n",
    "    print(\"The child has nutritional obesity\")    "
   ]
  },
  {
   "cell_type": "code",
   "execution_count": null,
   "id": "94475c7f",
   "metadata": {},
   "outputs": [],
   "source": []
  }
 ],
 "metadata": {
  "kernelspec": {
   "display_name": "Python 3 (ipykernel)",
   "language": "python",
   "name": "python3"
  },
  "language_info": {
   "codemirror_mode": {
    "name": "ipython",
    "version": 3
   },
   "file_extension": ".py",
   "mimetype": "text/x-python",
   "name": "python",
   "nbconvert_exporter": "python",
   "pygments_lexer": "ipython3",
   "version": "3.8.10"
  }
 },
 "nbformat": 4,
 "nbformat_minor": 5
}
